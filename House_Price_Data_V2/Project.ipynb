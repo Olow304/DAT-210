{
 "cells": [
  {
   "cell_type": "code",
   "execution_count": 2,
   "metadata": {
    "collapsed": false
   },
   "outputs": [],
   "source": [
    "import numpy as np\n",
    "import pandas as pd\n",
    "import matplotlib.pyplot as plt\n",
    "import matplotlib.dates as mdates\n",
    "\n",
    "%matplotlib inline\n"
   ]
  },
  {
   "cell_type": "code",
   "execution_count": 3,
   "metadata": {
    "collapsed": false
   },
   "outputs": [
    {
     "data": {
      "text/plain": [
       "(10424, 255)"
      ]
     },
     "execution_count": 3,
     "metadata": {},
     "output_type": "execute_result"
    }
   ],
   "source": [
    "#Read the data\n",
    "df = pd.read_csv('house_prices.csv')\n",
    "df.shape"
   ]
  },
  {
   "cell_type": "code",
   "execution_count": 9,
   "metadata": {
    "collapsed": false
   },
   "outputs": [],
   "source": [
    "#Let's get the median listing price columns\n",
    "prices = df.columns[6:]"
   ]
  },
  {
   "cell_type": "code",
   "execution_count": 10,
   "metadata": {
    "collapsed": true
   },
   "outputs": [],
   "source": [
    "#Let's calculate the average listing price and the variance over the time \n",
    "#period\n",
    "df['average_price'] = np.nanmean(df[prices], axis=1)\n",
    "df['price_variance'] = np.nanvar(df[prices], axis=1)\n",
    "df['size'] = df.shape[0] - df['SizeRank']"
   ]
  },
  {
   "cell_type": "markdown",
   "metadata": {},
   "source": [
    "### Take a look at the data"
   ]
  },
  {
   "cell_type": "code",
   "execution_count": 15,
   "metadata": {
    "collapsed": false
   },
   "outputs": [
    {
     "data": {
      "text/html": [
       "<div>\n",
       "<table border=\"1\" class=\"dataframe\">\n",
       "  <thead>\n",
       "    <tr style=\"text-align: right;\">\n",
       "      <th></th>\n",
       "      <th>RegionName</th>\n",
       "      <th>State</th>\n",
       "      <th>average_price</th>\n",
       "    </tr>\n",
       "  </thead>\n",
       "  <tbody>\n",
       "    <tr>\n",
       "      <th>4430</th>\n",
       "      <td>Atherton</td>\n",
       "      <td>CA</td>\n",
       "      <td>4.998383e+09</td>\n",
       "    </tr>\n",
       "    <tr>\n",
       "      <th>3349</th>\n",
       "      <td>Hillsborough</td>\n",
       "      <td>CA</td>\n",
       "      <td>4.668615e+09</td>\n",
       "    </tr>\n",
       "    <tr>\n",
       "      <th>9805</th>\n",
       "      <td>Jupiter Island</td>\n",
       "      <td>FL</td>\n",
       "      <td>4.508647e+09</td>\n",
       "    </tr>\n",
       "    <tr>\n",
       "      <th>5941</th>\n",
       "      <td>Portola Valley</td>\n",
       "      <td>CA</td>\n",
       "      <td>3.574151e+09</td>\n",
       "    </tr>\n",
       "    <tr>\n",
       "      <th>4242</th>\n",
       "      <td>Los Altos Hills</td>\n",
       "      <td>CA</td>\n",
       "      <td>2.504035e+09</td>\n",
       "    </tr>\n",
       "    <tr>\n",
       "      <th>9364</th>\n",
       "      <td>Water Mill</td>\n",
       "      <td>NY</td>\n",
       "      <td>2.491381e+09</td>\n",
       "    </tr>\n",
       "    <tr>\n",
       "      <th>2915</th>\n",
       "      <td>Malibu</td>\n",
       "      <td>CA</td>\n",
       "      <td>2.051730e+09</td>\n",
       "    </tr>\n",
       "    <tr>\n",
       "      <th>7837</th>\n",
       "      <td>Belvedere</td>\n",
       "      <td>CA</td>\n",
       "      <td>1.890704e+09</td>\n",
       "    </tr>\n",
       "    <tr>\n",
       "      <th>5243</th>\n",
       "      <td>Montecito</td>\n",
       "      <td>CA</td>\n",
       "      <td>1.755322e+09</td>\n",
       "    </tr>\n",
       "    <tr>\n",
       "      <th>3770</th>\n",
       "      <td>Woodside</td>\n",
       "      <td>CA</td>\n",
       "      <td>1.538833e+09</td>\n",
       "    </tr>\n",
       "  </tbody>\n",
       "</table>\n",
       "</div>"
      ],
      "text/plain": [
       "           RegionName State  average_price\n",
       "4430         Atherton    CA   4.998383e+09\n",
       "3349     Hillsborough    CA   4.668615e+09\n",
       "9805   Jupiter Island    FL   4.508647e+09\n",
       "5941   Portola Valley    CA   3.574151e+09\n",
       "4242  Los Altos Hills    CA   2.504035e+09\n",
       "9364       Water Mill    NY   2.491381e+09\n",
       "2915           Malibu    CA   2.051730e+09\n",
       "7837        Belvedere    CA   1.890704e+09\n",
       "5243        Montecito    CA   1.755322e+09\n",
       "3770         Woodside    CA   1.538833e+09"
      ]
     },
     "execution_count": 15,
     "metadata": {},
     "output_type": "execute_result"
    }
   ],
   "source": [
    "df[['RegionName', 'State','average_price',]].nlargest(10,'average_price')"
   ]
  },
  {
   "cell_type": "code",
   "execution_count": 16,
   "metadata": {
    "collapsed": false
   },
   "outputs": [
    {
     "data": {
      "text/html": [
       "<div>\n",
       "<table border=\"1\" class=\"dataframe\">\n",
       "  <thead>\n",
       "    <tr style=\"text-align: right;\">\n",
       "      <th></th>\n",
       "      <th>RegionName</th>\n",
       "      <th>State</th>\n",
       "      <th>average_price</th>\n",
       "    </tr>\n",
       "  </thead>\n",
       "  <tbody>\n",
       "    <tr>\n",
       "      <th>2452</th>\n",
       "      <td>Raymondville</td>\n",
       "      <td>TX</td>\n",
       "      <td>58205.414851</td>\n",
       "    </tr>\n",
       "    <tr>\n",
       "      <th>6313</th>\n",
       "      <td>Hearne</td>\n",
       "      <td>TX</td>\n",
       "      <td>64285.341778</td>\n",
       "    </tr>\n",
       "    <tr>\n",
       "      <th>5292</th>\n",
       "      <td>Falfurrias</td>\n",
       "      <td>TX</td>\n",
       "      <td>67352.561228</td>\n",
       "    </tr>\n",
       "    <tr>\n",
       "      <th>2186</th>\n",
       "      <td>Clarksdale</td>\n",
       "      <td>MS</td>\n",
       "      <td>69211.266032</td>\n",
       "    </tr>\n",
       "    <tr>\n",
       "      <th>6652</th>\n",
       "      <td>Haskell</td>\n",
       "      <td>TX</td>\n",
       "      <td>71621.563852</td>\n",
       "    </tr>\n",
       "    <tr>\n",
       "      <th>10133</th>\n",
       "      <td>Coffeen</td>\n",
       "      <td>IL</td>\n",
       "      <td>71948.214223</td>\n",
       "    </tr>\n",
       "    <tr>\n",
       "      <th>6218</th>\n",
       "      <td>Lyford</td>\n",
       "      <td>TX</td>\n",
       "      <td>72802.452007</td>\n",
       "    </tr>\n",
       "    <tr>\n",
       "      <th>4166</th>\n",
       "      <td>Marlin</td>\n",
       "      <td>TX</td>\n",
       "      <td>74128.859691</td>\n",
       "    </tr>\n",
       "    <tr>\n",
       "      <th>5235</th>\n",
       "      <td>Belzoni</td>\n",
       "      <td>MS</td>\n",
       "      <td>75390.497710</td>\n",
       "    </tr>\n",
       "    <tr>\n",
       "      <th>10017</th>\n",
       "      <td>Oakes</td>\n",
       "      <td>ND</td>\n",
       "      <td>75990.016349</td>\n",
       "    </tr>\n",
       "  </tbody>\n",
       "</table>\n",
       "</div>"
      ],
      "text/plain": [
       "         RegionName State  average_price\n",
       "2452   Raymondville    TX   58205.414851\n",
       "6313         Hearne    TX   64285.341778\n",
       "5292     Falfurrias    TX   67352.561228\n",
       "2186     Clarksdale    MS   69211.266032\n",
       "6652        Haskell    TX   71621.563852\n",
       "10133       Coffeen    IL   71948.214223\n",
       "6218         Lyford    TX   72802.452007\n",
       "4166         Marlin    TX   74128.859691\n",
       "5235        Belzoni    MS   75390.497710\n",
       "10017         Oakes    ND   75990.016349"
      ]
     },
     "execution_count": 16,
     "metadata": {},
     "output_type": "execute_result"
    }
   ],
   "source": [
    "df[['RegionName', 'State', 'average_price']].nsmallest(10, 'average_price')"
   ]
  },
  {
   "cell_type": "markdown",
   "metadata": {},
   "source": [
    "#### Let's see how the average price over the time period is related to size of the region and the volatility of the price."
   ]
  },
  {
   "cell_type": "code",
   "execution_count": null,
   "metadata": {
    "collapsed": true
   },
   "outputs": [],
   "source": [
    "#Let's color code for each region\n",
    "colors = np.random.rand(df.shape[0])\n",
    "#the variance by a factor of 10 so the sizes are more managable\n",
    "sizes = df['price_variance'] / 10\n",
    "\n",
    "plt.style.use('fivethirtyeight')\n",
    "#Scatter plot of the data\n",
    "plt.scatter(df['size'],df['average_price'],s=sizes,c=colors,alpha=0.7)\n",
    "plt.ylim([0,2500])\n",
    "plt.xlim([-10,85])\n",
    "plt.ylabel('Median Listing Price')\n",
    "plt.xlabel('Size')\n",
    "labels = df['RegionName']\n",
    "plt.text(-10,2500,'The size of the dot represents varinace in price for the region',fontsize=10,color='red')\n",
    "#let's label out plot, dots\n",
    "top_five_variance = df[['RegionName','size','average_price','price_variance']].nlargest(5,'price_variance')\n",
    "for r in top_five_variance.itertuples(index=False):\n",
    "    plt.annotate(r[0],xy=(r[1],r[2]),size=10,xycoords='data',xytext=(r[1]+10,r[2]+20),arrowprops=dict(arrowstyle = '->', color='black'))\n",
    "plt.show()\n",
    "\n"
   ]
  },
  {
   "cell_type": "code",
   "execution_count": null,
   "metadata": {
    "collapsed": true
   },
   "outputs": [],
   "source": []
  },
  {
   "cell_type": "code",
   "execution_count": null,
   "metadata": {
    "collapsed": true
   },
   "outputs": [],
   "source": []
  }
 ],
 "metadata": {
  "anaconda-cloud": {},
  "kernelspec": {
   "display_name": "Python [default]",
   "language": "python",
   "name": "python3"
  },
  "language_info": {
   "codemirror_mode": {
    "name": "ipython",
    "version": 3
   },
   "file_extension": ".py",
   "mimetype": "text/x-python",
   "name": "python",
   "nbconvert_exporter": "python",
   "pygments_lexer": "ipython3",
   "version": "3.5.2"
  }
 },
 "nbformat": 4,
 "nbformat_minor": 1
}
