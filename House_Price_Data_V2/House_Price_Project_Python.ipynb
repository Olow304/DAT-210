{
 "cells": [
  {
   "cell_type": "markdown",
   "metadata": {},
   "source": [
    "### First thing first import modules and data"
   ]
  },
  {
   "cell_type": "code",
   "execution_count": 1,
   "metadata": {
    "collapsed": true
   },
   "outputs": [],
   "source": [
    "%matplotlib inline\n",
    "import pandas as pd\n",
    "import numpy as np\n",
    "import matplotlib.pyplot as plt\n",
    "import seaborn as sns\n",
    "import matplotlib.dates as mdates"
   ]
  },
  {
   "cell_type": "code",
   "execution_count": 2,
   "metadata": {
    "collapsed": true
   },
   "outputs": [],
   "source": [
    "df = pd.read_csv('house_prices.csv')\n",
    "df = df.dropna(thresh=48)"
   ]
  },
  {
   "cell_type": "markdown",
   "metadata": {},
   "source": [
    "#### First graph to see the most expensive and cheap states"
   ]
  },
  {
   "cell_type": "code",
   "execution_count": 3,
   "metadata": {
    "collapsed": false
   },
   "outputs": [],
   "source": [
    "# Get the median listing price columns \n",
    "prices = df.columns[6:]"
   ]
  },
  {
   "cell_type": "code",
   "execution_count": 4,
   "metadata": {
    "collapsed": false
   },
   "outputs": [],
   "source": [
    "# Calculate the average listing price and the variance over the time period\n",
    "df['average_price'] = np.nanmean(df[prices], axis = 1)\n",
    "df['price_variance'] = np.nanvar(df[prices], axis = 1)\n",
    "df['size'] = df.shape[0] - df['SizeRank'] # Reverse code the size rank so larger number = larger size"
   ]
  },
  {
   "cell_type": "code",
   "execution_count": 5,
   "metadata": {
    "collapsed": false
   },
   "outputs": [
    {
     "data": {
      "text/html": [
       "<div>\n",
       "<table border=\"1\" class=\"dataframe\">\n",
       "  <thead>\n",
       "    <tr style=\"text-align: right;\">\n",
       "      <th></th>\n",
       "      <th>RegionName</th>\n",
       "      <th>State</th>\n",
       "      <th>average_price</th>\n",
       "    </tr>\n",
       "  </thead>\n",
       "  <tbody>\n",
       "    <tr>\n",
       "      <th>8494</th>\n",
       "      <td>Zwolle</td>\n",
       "      <td>LA</td>\n",
       "      <td>1.076809e+07</td>\n",
       "    </tr>\n",
       "    <tr>\n",
       "      <th>9805</th>\n",
       "      <td>Jupiter Island</td>\n",
       "      <td>FL</td>\n",
       "      <td>3.871083e+06</td>\n",
       "    </tr>\n",
       "    <tr>\n",
       "      <th>4430</th>\n",
       "      <td>Atherton</td>\n",
       "      <td>CA</td>\n",
       "      <td>3.328369e+06</td>\n",
       "    </tr>\n",
       "    <tr>\n",
       "      <th>8397</th>\n",
       "      <td>Rolling Hills</td>\n",
       "      <td>CA</td>\n",
       "      <td>3.323068e+06</td>\n",
       "    </tr>\n",
       "    <tr>\n",
       "      <th>3349</th>\n",
       "      <td>Hillsborough</td>\n",
       "      <td>CA</td>\n",
       "      <td>3.262936e+06</td>\n",
       "    </tr>\n",
       "    <tr>\n",
       "      <th>9364</th>\n",
       "      <td>Water Mill</td>\n",
       "      <td>NY</td>\n",
       "      <td>3.050982e+06</td>\n",
       "    </tr>\n",
       "    <tr>\n",
       "      <th>5941</th>\n",
       "      <td>Portola Valley</td>\n",
       "      <td>CA</td>\n",
       "      <td>2.991975e+06</td>\n",
       "    </tr>\n",
       "    <tr>\n",
       "      <th>4242</th>\n",
       "      <td>Los Altos Hills</td>\n",
       "      <td>CA</td>\n",
       "      <td>2.543581e+06</td>\n",
       "    </tr>\n",
       "    <tr>\n",
       "      <th>7837</th>\n",
       "      <td>Belvedere</td>\n",
       "      <td>CA</td>\n",
       "      <td>2.330984e+06</td>\n",
       "    </tr>\n",
       "    <tr>\n",
       "      <th>7357</th>\n",
       "      <td>Rancho Santa Fe</td>\n",
       "      <td>CA</td>\n",
       "      <td>2.208226e+06</td>\n",
       "    </tr>\n",
       "  </tbody>\n",
       "</table>\n",
       "</div>"
      ],
      "text/plain": [
       "           RegionName State  average_price\n",
       "8494           Zwolle    LA   1.076809e+07\n",
       "9805   Jupiter Island    FL   3.871083e+06\n",
       "4430         Atherton    CA   3.328369e+06\n",
       "8397    Rolling Hills    CA   3.323068e+06\n",
       "3349     Hillsborough    CA   3.262936e+06\n",
       "9364       Water Mill    NY   3.050982e+06\n",
       "5941   Portola Valley    CA   2.991975e+06\n",
       "4242  Los Altos Hills    CA   2.543581e+06\n",
       "7837        Belvedere    CA   2.330984e+06\n",
       "7357  Rancho Santa Fe    CA   2.208226e+06"
      ]
     },
     "execution_count": 5,
     "metadata": {},
     "output_type": "execute_result"
    }
   ],
   "source": [
    "df[['RegionName', 'State', 'average_price']].nlargest(10, 'average_price')"
   ]
  },
  {
   "cell_type": "code",
   "execution_count": 6,
   "metadata": {
    "collapsed": false
   },
   "outputs": [
    {
     "data": {
      "text/html": [
       "<div>\n",
       "<table border=\"1\" class=\"dataframe\">\n",
       "  <thead>\n",
       "    <tr style=\"text-align: right;\">\n",
       "      <th></th>\n",
       "      <th>RegionName</th>\n",
       "      <th>State</th>\n",
       "      <th>average_price</th>\n",
       "    </tr>\n",
       "  </thead>\n",
       "  <tbody>\n",
       "    <tr>\n",
       "      <th>5246</th>\n",
       "      <td>Wewoka</td>\n",
       "      <td>OK</td>\n",
       "      <td>29806.425703</td>\n",
       "    </tr>\n",
       "    <tr>\n",
       "      <th>5318</th>\n",
       "      <td>Shenandoah</td>\n",
       "      <td>PA</td>\n",
       "      <td>31032.307692</td>\n",
       "    </tr>\n",
       "    <tr>\n",
       "      <th>5944</th>\n",
       "      <td>Mahanoy City</td>\n",
       "      <td>PA</td>\n",
       "      <td>31087.692308</td>\n",
       "    </tr>\n",
       "    <tr>\n",
       "      <th>9773</th>\n",
       "      <td>Waurika</td>\n",
       "      <td>OK</td>\n",
       "      <td>33028.326180</td>\n",
       "    </tr>\n",
       "    <tr>\n",
       "      <th>8942</th>\n",
       "      <td>Girardville</td>\n",
       "      <td>PA</td>\n",
       "      <td>33420.080321</td>\n",
       "    </tr>\n",
       "    <tr>\n",
       "      <th>7046</th>\n",
       "      <td>Ashland</td>\n",
       "      <td>PA</td>\n",
       "      <td>35246.586345</td>\n",
       "    </tr>\n",
       "    <tr>\n",
       "      <th>4841</th>\n",
       "      <td>Century Village</td>\n",
       "      <td>FL</td>\n",
       "      <td>37081.526104</td>\n",
       "    </tr>\n",
       "    <tr>\n",
       "      <th>8944</th>\n",
       "      <td>Rankin</td>\n",
       "      <td>PA</td>\n",
       "      <td>37457.939914</td>\n",
       "    </tr>\n",
       "    <tr>\n",
       "      <th>6787</th>\n",
       "      <td>Homestead</td>\n",
       "      <td>PA</td>\n",
       "      <td>37760.515021</td>\n",
       "    </tr>\n",
       "    <tr>\n",
       "      <th>7470</th>\n",
       "      <td>Braddock</td>\n",
       "      <td>PA</td>\n",
       "      <td>37814.859438</td>\n",
       "    </tr>\n",
       "  </tbody>\n",
       "</table>\n",
       "</div>"
      ],
      "text/plain": [
       "           RegionName State  average_price\n",
       "5246           Wewoka    OK   29806.425703\n",
       "5318       Shenandoah    PA   31032.307692\n",
       "5944     Mahanoy City    PA   31087.692308\n",
       "9773          Waurika    OK   33028.326180\n",
       "8942      Girardville    PA   33420.080321\n",
       "7046          Ashland    PA   35246.586345\n",
       "4841  Century Village    FL   37081.526104\n",
       "8944           Rankin    PA   37457.939914\n",
       "6787        Homestead    PA   37760.515021\n",
       "7470         Braddock    PA   37814.859438"
      ]
     },
     "execution_count": 6,
     "metadata": {},
     "output_type": "execute_result"
    }
   ],
   "source": [
    "df[['RegionName', 'State', 'average_price']].nsmallest(10, 'average_price')"
   ]
  },
  {
   "cell_type": "code",
   "execution_count": null,
   "metadata": {
    "collapsed": true
   },
   "outputs": [],
   "source": []
  },
  {
   "cell_type": "code",
   "execution_count": null,
   "metadata": {
    "collapsed": true
   },
   "outputs": [],
   "source": []
  },
  {
   "cell_type": "code",
   "execution_count": null,
   "metadata": {
    "collapsed": true
   },
   "outputs": [],
   "source": []
  },
  {
   "cell_type": "code",
   "execution_count": null,
   "metadata": {
    "collapsed": true
   },
   "outputs": [],
   "source": []
  }
 ],
 "metadata": {
  "anaconda-cloud": {},
  "kernelspec": {
   "display_name": "Python [default]",
   "language": "python",
   "name": "python3"
  },
  "language_info": {
   "codemirror_mode": {
    "name": "ipython",
    "version": 3
   },
   "file_extension": ".py",
   "mimetype": "text/x-python",
   "name": "python",
   "nbconvert_exporter": "python",
   "pygments_lexer": "ipython3",
   "version": "3.5.2"
  }
 },
 "nbformat": 4,
 "nbformat_minor": 1
}
